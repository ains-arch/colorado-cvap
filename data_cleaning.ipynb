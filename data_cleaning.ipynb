{
 "cells": [
  {
   "cell_type": "markdown",
   "metadata": {},
   "source": [
    "# Data Preparation for GA blockgroup and precinct data"
   ]
  },
  {
   "cell_type": "code",
   "execution_count": 4,
   "metadata": {},
   "outputs": [],
   "source": [
    "import geopandas as gpd\n",
    "import pandas as pd\n",
    "import numpy as np\n",
    "import matplotlib.pyplot as plt\n",
    "import seaborn as sns\n",
    "import pickle\n",
    "import maup"
   ]
  },
  {
   "cell_type": "markdown",
   "metadata": {},
   "source": [
    "## Import shapefiles with decennial data"
   ]
  },
  {
   "cell_type": "code",
   "execution_count": 5,
   "metadata": {},
   "outputs": [],
   "source": [
    "ga_bgs_decennial = gpd.read_file(\"../shapes/Georgia/GA_block_groups/GA_block_groups.shp\")"
   ]
  },
  {
   "cell_type": "code",
   "execution_count": 6,
   "metadata": {},
   "outputs": [],
   "source": [
    "ga_blocks = gpd.read_file(\"../shapes/Georgia/GA_blocks_10/GA_blocks_2010.shp\")"
   ]
  },
  {
   "cell_type": "code",
   "execution_count": null,
   "metadata": {},
   "outputs": [],
   "source": []
  },
  {
   "cell_type": "markdown",
   "metadata": {},
   "source": [
    "## Clean ACS data from NHGIS\n",
    "\n",
    "* TOTPOP broked down by race and hispanic origin\n",
    "* aggregate VAP counts"
   ]
  },
  {
   "cell_type": "code",
   "execution_count": 7,
   "metadata": {},
   "outputs": [],
   "source": [
    "ga_bgs_acs = pd.read_csv(\"data/nhgis0028_csv/nhgis0028_ds239_20185_2018_blck_grp.csv\")"
   ]
  },
  {
   "cell_type": "code",
   "execution_count": 8,
   "metadata": {},
   "outputs": [],
   "source": [
    "ga_bgs_acs[\"GEOID\"] = ga_bgs_acs[\"GISJOIN\"].apply(lambda geoid: geoid[1:3] + geoid[4:7] + geoid[8:])"
   ]
  },
  {
   "cell_type": "code",
   "execution_count": 9,
   "metadata": {},
   "outputs": [],
   "source": [
    "pop_cols_to_rename = {\"AJWVE001\": \"TOTPOP18\",\n",
    "                     \"AJWVE003\": \"NH_WHITE18\",\n",
    "                     \"AJWVE004\": \"NH_BLACK18\",\n",
    "                     \"AJWVE005\": \"NH_AMIN18\",\n",
    "                     \"AJWVE006\": \"NH_ASIAN18\",\n",
    "                     \"AJWVE007\": \"NH_NHPI18\",\n",
    "                     \"AJWVE008\": \"NH_OTHER18\",\n",
    "                     \"AJWVE009\": \"NH_2MORE18\",\n",
    "                     \"AJWVE012\": \"HISP18\",\n",
    "                     \"AJWVE013\": \"H_WHITE18\",\n",
    "                     \"AJWVE014\": \"H_BLACK18\",\n",
    "                     \"AJWVE015\": \"H_AMIN18\",\n",
    "                     \"AJWVE016\": \"H_ASIAN18\",\n",
    "                     \"AJWVE017\": \"H_NHPI18\",\n",
    "                     \"AJWVE018\": \"H_OTHER18\",\n",
    "                     \"AJWVE019\": \"H_2MORE18\"}"
   ]
  },
  {
   "cell_type": "code",
   "execution_count": 10,
   "metadata": {},
   "outputs": [],
   "source": [
    "ga_bgs_acs.rename(columns=pop_cols_to_rename,inplace=True)"
   ]
  },
  {
   "cell_type": "code",
   "execution_count": null,
   "metadata": {},
   "outputs": [],
   "source": []
  },
  {
   "cell_type": "code",
   "execution_count": 11,
   "metadata": {},
   "outputs": [],
   "source": [
    "u18_cols = ([\"AJWBE{:03}\".format(i) for i in range(3,7)] \n",
    "          + [\"AJWBE{:03}\".format(i) for i in range(27,31)])\n",
    "vap_cols = ([\"AJWBE{:03}\".format(i) for i in range(7,26)] \n",
    "          + [\"AJWBE{:03}\".format(i) for i in range(31,50)])"
   ]
  },
  {
   "cell_type": "code",
   "execution_count": 12,
   "metadata": {},
   "outputs": [
    {
     "data": {
      "text/plain": [
       "True"
      ]
     },
     "execution_count": 12,
     "metadata": {},
     "output_type": "execute_result"
    }
   ],
   "source": [
    "## Sanity check that U18 + VAP is equal to TOTPOP for all blocks\n",
    "(ga_bgs_acs[u18_cols].sum(axis=1) + ga_bgs_acs[vap_cols].sum(axis=1) == ga_bgs_acs.TOTPOP18).all()"
   ]
  },
  {
   "cell_type": "code",
   "execution_count": 13,
   "metadata": {},
   "outputs": [],
   "source": [
    "ga_bgs_acs[\"U18_18\"] = ga_bgs_acs[u18_cols].sum(axis=1)\n",
    "ga_bgs_acs[\"VAP18\"] = ga_bgs_acs[vap_cols].sum(axis=1)"
   ]
  },
  {
   "cell_type": "code",
   "execution_count": 14,
   "metadata": {},
   "outputs": [
    {
     "data": {
      "text/html": [
       "<div>\n",
       "<style scoped>\n",
       "    .dataframe tbody tr th:only-of-type {\n",
       "        vertical-align: middle;\n",
       "    }\n",
       "\n",
       "    .dataframe tbody tr th {\n",
       "        vertical-align: top;\n",
       "    }\n",
       "\n",
       "    .dataframe thead th {\n",
       "        text-align: right;\n",
       "    }\n",
       "</style>\n",
       "<table border=\"1\" class=\"dataframe\">\n",
       "  <thead>\n",
       "    <tr style=\"text-align: right;\">\n",
       "      <th></th>\n",
       "      <th>GISJOIN</th>\n",
       "      <th>YEAR</th>\n",
       "      <th>REGIONA</th>\n",
       "      <th>DIVISIONA</th>\n",
       "      <th>STATE</th>\n",
       "      <th>STATEA</th>\n",
       "      <th>COUNTY</th>\n",
       "      <th>COUNTYA</th>\n",
       "      <th>COUSUBA</th>\n",
       "      <th>PLACEA</th>\n",
       "      <th>...</th>\n",
       "      <th>AJWVM015</th>\n",
       "      <th>AJWVM016</th>\n",
       "      <th>AJWVM017</th>\n",
       "      <th>AJWVM018</th>\n",
       "      <th>AJWVM019</th>\n",
       "      <th>AJWVM020</th>\n",
       "      <th>AJWVM021</th>\n",
       "      <th>GEOID</th>\n",
       "      <th>U18_18</th>\n",
       "      <th>VAP18</th>\n",
       "    </tr>\n",
       "  </thead>\n",
       "  <tbody>\n",
       "    <tr>\n",
       "      <th>0</th>\n",
       "      <td>G13000109501001</td>\n",
       "      <td>2014-2018</td>\n",
       "      <td>NaN</td>\n",
       "      <td>NaN</td>\n",
       "      <td>Georgia</td>\n",
       "      <td>13</td>\n",
       "      <td>Appling County</td>\n",
       "      <td>1</td>\n",
       "      <td>NaN</td>\n",
       "      <td>NaN</td>\n",
       "      <td>...</td>\n",
       "      <td>13</td>\n",
       "      <td>13</td>\n",
       "      <td>13</td>\n",
       "      <td>13</td>\n",
       "      <td>13</td>\n",
       "      <td>13</td>\n",
       "      <td>13</td>\n",
       "      <td>130019501001</td>\n",
       "      <td>118</td>\n",
       "      <td>769</td>\n",
       "    </tr>\n",
       "    <tr>\n",
       "      <th>1</th>\n",
       "      <td>G13000109501002</td>\n",
       "      <td>2014-2018</td>\n",
       "      <td>NaN</td>\n",
       "      <td>NaN</td>\n",
       "      <td>Georgia</td>\n",
       "      <td>13</td>\n",
       "      <td>Appling County</td>\n",
       "      <td>1</td>\n",
       "      <td>NaN</td>\n",
       "      <td>NaN</td>\n",
       "      <td>...</td>\n",
       "      <td>13</td>\n",
       "      <td>13</td>\n",
       "      <td>13</td>\n",
       "      <td>13</td>\n",
       "      <td>13</td>\n",
       "      <td>13</td>\n",
       "      <td>13</td>\n",
       "      <td>130019501002</td>\n",
       "      <td>583</td>\n",
       "      <td>1541</td>\n",
       "    </tr>\n",
       "    <tr>\n",
       "      <th>2</th>\n",
       "      <td>G13000109502001</td>\n",
       "      <td>2014-2018</td>\n",
       "      <td>NaN</td>\n",
       "      <td>NaN</td>\n",
       "      <td>Georgia</td>\n",
       "      <td>13</td>\n",
       "      <td>Appling County</td>\n",
       "      <td>1</td>\n",
       "      <td>NaN</td>\n",
       "      <td>NaN</td>\n",
       "      <td>...</td>\n",
       "      <td>13</td>\n",
       "      <td>13</td>\n",
       "      <td>13</td>\n",
       "      <td>200</td>\n",
       "      <td>13</td>\n",
       "      <td>13</td>\n",
       "      <td>13</td>\n",
       "      <td>130019502001</td>\n",
       "      <td>349</td>\n",
       "      <td>1362</td>\n",
       "    </tr>\n",
       "    <tr>\n",
       "      <th>3</th>\n",
       "      <td>G13000109502002</td>\n",
       "      <td>2014-2018</td>\n",
       "      <td>NaN</td>\n",
       "      <td>NaN</td>\n",
       "      <td>Georgia</td>\n",
       "      <td>13</td>\n",
       "      <td>Appling County</td>\n",
       "      <td>1</td>\n",
       "      <td>NaN</td>\n",
       "      <td>NaN</td>\n",
       "      <td>...</td>\n",
       "      <td>13</td>\n",
       "      <td>13</td>\n",
       "      <td>13</td>\n",
       "      <td>13</td>\n",
       "      <td>13</td>\n",
       "      <td>13</td>\n",
       "      <td>13</td>\n",
       "      <td>130019502002</td>\n",
       "      <td>267</td>\n",
       "      <td>1028</td>\n",
       "    </tr>\n",
       "    <tr>\n",
       "      <th>4</th>\n",
       "      <td>G13000109502003</td>\n",
       "      <td>2014-2018</td>\n",
       "      <td>NaN</td>\n",
       "      <td>NaN</td>\n",
       "      <td>Georgia</td>\n",
       "      <td>13</td>\n",
       "      <td>Appling County</td>\n",
       "      <td>1</td>\n",
       "      <td>NaN</td>\n",
       "      <td>NaN</td>\n",
       "      <td>...</td>\n",
       "      <td>13</td>\n",
       "      <td>13</td>\n",
       "      <td>13</td>\n",
       "      <td>13</td>\n",
       "      <td>13</td>\n",
       "      <td>13</td>\n",
       "      <td>13</td>\n",
       "      <td>130019502003</td>\n",
       "      <td>244</td>\n",
       "      <td>1051</td>\n",
       "    </tr>\n",
       "  </tbody>\n",
       "</table>\n",
       "<p>5 rows × 181 columns</p>\n",
       "</div>"
      ],
      "text/plain": [
       "           GISJOIN       YEAR  REGIONA  DIVISIONA    STATE  STATEA  \\\n",
       "0  G13000109501001  2014-2018      NaN        NaN  Georgia      13   \n",
       "1  G13000109501002  2014-2018      NaN        NaN  Georgia      13   \n",
       "2  G13000109502001  2014-2018      NaN        NaN  Georgia      13   \n",
       "3  G13000109502002  2014-2018      NaN        NaN  Georgia      13   \n",
       "4  G13000109502003  2014-2018      NaN        NaN  Georgia      13   \n",
       "\n",
       "           COUNTY  COUNTYA  COUSUBA  PLACEA  ...  AJWVM015  AJWVM016  \\\n",
       "0  Appling County        1      NaN     NaN  ...        13        13   \n",
       "1  Appling County        1      NaN     NaN  ...        13        13   \n",
       "2  Appling County        1      NaN     NaN  ...        13        13   \n",
       "3  Appling County        1      NaN     NaN  ...        13        13   \n",
       "4  Appling County        1      NaN     NaN  ...        13        13   \n",
       "\n",
       "   AJWVM017  AJWVM018  AJWVM019  AJWVM020  AJWVM021         GEOID  U18_18  \\\n",
       "0        13        13        13        13        13  130019501001     118   \n",
       "1        13        13        13        13        13  130019501002     583   \n",
       "2        13       200        13        13        13  130019502001     349   \n",
       "3        13        13        13        13        13  130019502002     267   \n",
       "4        13        13        13        13        13  130019502003     244   \n",
       "\n",
       "   VAP18  \n",
       "0    769  \n",
       "1   1541  \n",
       "2   1362  \n",
       "3   1028  \n",
       "4   1051  \n",
       "\n",
       "[5 rows x 181 columns]"
      ]
     },
     "execution_count": 14,
     "metadata": {},
     "output_type": "execute_result"
    }
   ],
   "source": [
    "ga_bgs_acs.head()"
   ]
  },
  {
   "cell_type": "code",
   "execution_count": 15,
   "metadata": {},
   "outputs": [],
   "source": [
    "cols_to_drop = ['COUSUBA','PLACEA','CONCITA', 'RES_ONLYA','TRUSTA','AIANHHA','AITSCEA',\n",
    "                'ANRCA','CBSAA','METDIVA','CSAA','NECTAA','NECTADIVA','CNECTAA', 'UAA',\n",
    "                'SLDUA','SLDLA','ZCTA5A','SUBMCDA','SDELMA','SDSECA','SDUNIA',]"
   ]
  },
  {
   "cell_type": "code",
   "execution_count": 16,
   "metadata": {},
   "outputs": [],
   "source": [
    "cols_to_drop.extend(list(ga_bgs_acs.filter(regex='AJW')))"
   ]
  },
  {
   "cell_type": "code",
   "execution_count": 17,
   "metadata": {},
   "outputs": [],
   "source": [
    "ga_bgs_acs_clean = ga_bgs_acs.drop(columns=cols_to_drop)"
   ]
  },
  {
   "cell_type": "code",
   "execution_count": 18,
   "metadata": {},
   "outputs": [],
   "source": [
    "ga_bgs_acs_clean.to_csv(\"data/GA_ACS_VAP_POP_bgs_2014-18.csv\")"
   ]
  },
  {
   "cell_type": "code",
   "execution_count": 19,
   "metadata": {},
   "outputs": [
    {
     "data": {
      "text/plain": [
       "Index(['GISJOIN', 'YEAR', 'REGIONA', 'DIVISIONA', 'STATE', 'STATEA', 'COUNTY',\n",
       "       'COUNTYA', 'TRACTA', 'BLKGRPA', 'CDCURRA', 'PUMA5A', 'BTTRA', 'BTBGA',\n",
       "       'NAME_E', 'TOTPOP18', 'NH_WHITE18', 'NH_BLACK18', 'NH_AMIN18',\n",
       "       'NH_ASIAN18', 'NH_NHPI18', 'NH_OTHER18', 'NH_2MORE18', 'HISP18',\n",
       "       'H_WHITE18', 'H_BLACK18', 'H_AMIN18', 'H_ASIAN18', 'H_NHPI18',\n",
       "       'H_OTHER18', 'H_2MORE18', 'NAME_M', 'GEOID', 'U18_18', 'VAP18'],\n",
       "      dtype='object')"
      ]
     },
     "execution_count": 19,
     "metadata": {},
     "output_type": "execute_result"
    }
   ],
   "source": [
    "ga_bgs_acs_clean.columns"
   ]
  },
  {
   "cell_type": "code",
   "execution_count": null,
   "metadata": {},
   "outputs": [],
   "source": []
  },
  {
   "cell_type": "markdown",
   "metadata": {},
   "source": [
    "## Merge ACS with decennial shapefile"
   ]
  },
  {
   "cell_type": "code",
   "execution_count": 20,
   "metadata": {},
   "outputs": [
    {
     "data": {
      "text/plain": [
       "Index(['STATEFP', 'COUNTYFP', 'TRACTCE', 'BLKGRPCE', 'GEOID', 'NAMELSAD',\n",
       "       'MTFCC', 'FUNCSTAT', 'ALAND', 'AWATER', 'INTPTLAT', 'INTPTLON', 'group',\n",
       "       'ALAND10', 'AWATER10', 'TOTPOP', 'NH_WHITE', 'NH_BLACK', 'NH_AMIN',\n",
       "       'NH_ASIAN', 'NH_NHPI', 'NH_OTHER', 'NH_2MORE', 'HISP', 'H_WHITE',\n",
       "       'H_BLACK', 'H_AMIN', 'H_ASIAN', 'H_NHPI', 'H_OTHER', 'H_2MORE', 'VAP',\n",
       "       'HVAP', 'WVAP', 'BVAP', 'AMINVAP', 'ASIANVAP', 'NHPIVAP', 'OTHERVAP',\n",
       "       '2MOREVAP', 'geometry'],\n",
       "      dtype='object')"
      ]
     },
     "execution_count": 20,
     "metadata": {},
     "output_type": "execute_result"
    }
   ],
   "source": [
    "ga_bgs_decennial.columns"
   ]
  },
  {
   "cell_type": "code",
   "execution_count": 21,
   "metadata": {},
   "outputs": [],
   "source": [
    "cols = ['TOTPOP', 'NH_WHITE', 'NH_BLACK', 'NH_AMIN','NH_ASIAN', 'NH_NHPI', \n",
    "        'NH_OTHER', 'NH_2MORE', 'HISP', 'H_WHITE', 'H_BLACK', 'H_AMIN', \n",
    "        'H_ASIAN', 'H_NHPI', 'H_OTHER', 'H_2MORE', 'VAP', 'HVAP', 'WVAP', \n",
    "        'BVAP', 'AMINVAP', 'ASIANVAP', 'NHPIVAP', 'OTHERVAP','2MOREVAP']"
   ]
  },
  {
   "cell_type": "code",
   "execution_count": 22,
   "metadata": {},
   "outputs": [],
   "source": [
    "ga_bgs_decennial.rename(columns={k: \"{}10\".format(k) for k in cols}, inplace=True)"
   ]
  },
  {
   "cell_type": "code",
   "execution_count": null,
   "metadata": {},
   "outputs": [],
   "source": []
  },
  {
   "cell_type": "code",
   "execution_count": 23,
   "metadata": {},
   "outputs": [],
   "source": [
    "ga_bgs = pd.merge(ga_bgs_decennial, ga_bgs_acs_clean, on=\"GEOID\")"
   ]
  },
  {
   "cell_type": "code",
   "execution_count": 24,
   "metadata": {},
   "outputs": [],
   "source": [
    "ga_bgs.to_file(\"data/GA_blockgroups_2018/GA_blockgroups_2018.shp\")"
   ]
  },
  {
   "cell_type": "code",
   "execution_count": null,
   "metadata": {},
   "outputs": [],
   "source": []
  }
 ],
 "metadata": {
  "kernelspec": {
   "display_name": "Python 3",
   "language": "python",
   "name": "python3"
  },
  "language_info": {
   "codemirror_mode": {
    "name": "ipython",
    "version": 3
   },
   "file_extension": ".py",
   "mimetype": "text/x-python",
   "name": "python",
   "nbconvert_exporter": "python",
   "pygments_lexer": "ipython3",
   "version": "3.7.6"
  }
 },
 "nbformat": 4,
 "nbformat_minor": 4
}
