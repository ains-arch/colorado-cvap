{
 "cells": [
  {
   "cell_type": "code",
   "execution_count": 1,
   "metadata": {},
   "outputs": [],
   "source": [
    "# -*- coding: utf-8 -*-\n",
    "\"\"\"\n",
    "Created on Wed Jul 10 10:59:39 2019\n",
    "\n",
    "@author: Katherine, Ki Wan\n",
    "\"\"\"\n",
    "\n",
    "import csv\n",
    "import os\n",
    "from functools import partial\n",
    "import json\n",
    "import numpy as np\n",
    "import geopandas as gpd\n",
    "import matplotlib\n",
    "\n",
    "import matplotlib.pyplot as plt\n",
    "#import seaborn as sns\n",
    "import networkx as nx\n",
    "import random\n",
    "\n",
    "\n",
    "from gerrychain import (\n",
    "    Election,\n",
    "    Graph,\n",
    "    MarkovChain,\n",
    "    Partition,\n",
    "    accept,\n",
    "    constraints,\n",
    "    updaters,\n",
    ")\n",
    "from gerrychain.metrics import efficiency_gap, mean_median, partisan_gini\n",
    "from gerrychain.proposals import recom, propose_random_flip\n",
    "from gerrychain.updaters import cut_edges\n",
    "from gerrychain.tree import recursive_tree_part\n",
    "from gerrychain.accept import always_accept\n",
    "\n"
   ]
  },
  {
   "cell_type": "code",
   "execution_count": 2,
   "metadata": {},
   "outputs": [],
   "source": [
    "num_districts = 14\n",
    "output_dirname = \"Run_1\"\n",
    "\n",
    "newdir = \"./Outputs/\"\n",
    "os.makedirs(os.path.dirname(newdir + \"init.txt\"), exist_ok=True)\n",
    "with open(newdir + \"init.txt\", \"w\") as f:\n",
    "    f.write(\"Created Folder\")\n",
    "    \n",
    "graph = Graph.from_json(\"./data/ga_tract.json\")\n",
    "df = gpd.read_file(\"./data/ga_2012_tract.gpkg\")\n"
   ]
  },
  {
   "cell_type": "code",
   "execution_count": 3,
   "metadata": {},
   "outputs": [
    {
     "data": {
      "text/plain": [
       "Index(['STATEFP', 'COUNTYFP', 'TRACTCE', 'GEOID', 'NAME', 'NAMELSAD', 'MTFCC',\n",
       "       'FUNCSTAT', 'ALAND', 'AWATER', 'INTPTLAT', 'INTPTLON', 'TOTPOP', 'WPOP',\n",
       "       'BPOP', 'AMINPOP', 'ASIANPOP', 'NHPIPOP', 'OTHERPOP', '2MOREPOP',\n",
       "       '2MOREOTHERPOP', '3MOREPOP', 'NCPOP', 'NHISP', 'NH_WHITE', 'NH_BLACK',\n",
       "       'NH_AMIN', 'NH_ASIAN', 'NH_NHPI', 'NH_OTHER', 'NH_2MORE',\n",
       "       'NH_2MOREOTHER', 'NH_3MORE', 'HISP', 'H_WHITE', 'H_BLACK', 'H_AMIN',\n",
       "       'H_ASIAN', 'H_NHPI', 'H_OTHER', 'H_2MORE', 'H_2MOREOTHER', 'H_3MORE',\n",
       "       'state', 'county', 'tract', 'MVAPTotal', 'MNativeBornVAPTotal',\n",
       "       'MNaturalizedVAPTotal', 'FVAPTotal', 'FNativeBornVAPTotal',\n",
       "       'FNaturalizedVAPTotal', 'MVAPBLACK', 'MNativeBornVAPBLACK',\n",
       "       'MNaturalizedVAPBLACK', 'FVAPBLACK', 'FNativeBornVAPBLACK',\n",
       "       'FNaturalizedVAPBLACK', 'MVAPAMIN', 'MNativeBornVAPAMIN',\n",
       "       'MNaturalizedVAPAMIN', 'FVAPAMIN', 'FNativeBornVAPAMIN',\n",
       "       'FNaturalizedVAPAMIN', 'MVAPASIAN', 'MNativeBornVAPASIAN',\n",
       "       'MNaturalizedVAPASIAN', 'FVAPASIAN', 'FNativeBornVAPASIAN',\n",
       "       'FNaturalizedVAPASIAN', 'MVAPNHWHITE', 'MNativeBornVAPNHWHITE',\n",
       "       'MNaturalizedVAPNHWHITE', 'FVAPNHWHITE', 'FNativeBornVAPNHWHITE',\n",
       "       'FNaturalizedVAPNHWHITE', 'MVAPHISP', 'MNativeBornVAPHISP',\n",
       "       'MNaturalizedVAPHISP', 'FVAPHISP', 'FNativeBornVAPHISP',\n",
       "       'FNaturalizedVAPHISP', 'geometry'],\n",
       "      dtype='object')"
      ]
     },
     "execution_count": 3,
     "metadata": {},
     "output_type": "execute_result"
    }
   ],
   "source": [
    "df.columns"
   ]
  },
  {
   "cell_type": "code",
   "execution_count": 5,
   "metadata": {},
   "outputs": [],
   "source": [
    "# SUMMING DATA WE WANT IN THE DATAFRAME\n",
    "import pandas as pd \n",
    "\n",
    "new_cols = ['CPOP', 'VAP', 'BVAP', 'nBVAP', 'CVAP', 'BCVAP', 'nBCVAP']\n",
    "\n",
    "VAP_cols = ['MVAPTotal', 'FVAPTotal']\n",
    "BVAP_cols = ['MVAPBLACK', 'FVAPBLACK']\n",
    "CVAP_cols = ['MNativeBornVAPTotal', 'MNaturalizedVAPTotal', 'FNativeBornVAPTotal', 'FNaturalizedVAPTotal']\n",
    "BCVAP_cols = ['MNativeBornVAPBLACK', 'MNaturalizedVAPBLACK', 'FNativeBornVAPBLACK', 'FNaturalizedVAPBLACK']\n",
    "\n",
    "df['CPOP'] = pd.to_numeric(df['TOTPOP']-df['NCPOP'])\n",
    "df['VAP'] = pd.to_numeric(df[VAP_cols].sum(axis=1))\n",
    "df['BVAP'] = pd.to_numeric(df[BVAP_cols].sum(axis=1))\n",
    "df['nBVAP'] = df['VAP'] - df['BVAP']\n",
    "df['CVAP'] = pd.to_numeric(df[CVAP_cols].sum(axis=1))\n",
    "df['BCVAP'] = pd.to_numeric(df[BCVAP_cols].sum(axis=1))\n",
    "df['nBCVAP'] = df['CVAP'] - df['BCVAP']\n"
   ]
  },
  {
   "cell_type": "code",
   "execution_count": 6,
   "metadata": {},
   "outputs": [],
   "source": [
    "# ADD NEW DATA TO GRAPH \n",
    "\n",
    "graph.add_data(df, columns=new_cols)"
   ]
  },
  {
   "cell_type": "code",
   "execution_count": 7,
   "metadata": {},
   "outputs": [],
   "source": [
    "# INITIAL PARTITION ASSIGNMENT USING RECURSIVE TREE PARTITION\n",
    "\n",
    "starts = []\n",
    "\n",
    "for i in range(1):\n",
    "    starts.append(recursive_tree_part(graph,range(num_districts),df['TOTPOP'].sum()/num_districts, \"TOTPOP\", .001, 1))\n"
   ]
  },
  {
   "cell_type": "code",
   "execution_count": 8,
   "metadata": {},
   "outputs": [
    {
     "name": "stdout",
     "output_type": "stream",
     "text": [
      "initial partition is made\n"
     ]
    },
    {
     "ename": "ValueError",
     "evalue": "The given initial_state is not valid according is_valid. The failed constraints were: Bounds(population,(883640.0571428571, 901491.3714285715))",
     "output_type": "error",
     "traceback": [
      "\u001b[0;31m---------------------------------------------------------------------------\u001b[0m",
      "\u001b[0;31mValueError\u001b[0m                                Traceback (most recent call last)",
      "\u001b[0;32m<ipython-input-8-77ff25c8542b>\u001b[0m in \u001b[0;36m<module>\u001b[0;34m\u001b[0m\n\u001b[1;32m     32\u001b[0m         \u001b[0maccept\u001b[0m\u001b[0;34m=\u001b[0m\u001b[0malways_accept\u001b[0m\u001b[0;34m,\u001b[0m\u001b[0;34m\u001b[0m\u001b[0;34m\u001b[0m\u001b[0m\n\u001b[1;32m     33\u001b[0m         \u001b[0minitial_state\u001b[0m\u001b[0;34m=\u001b[0m\u001b[0minitial_partitions\u001b[0m\u001b[0;34m[\u001b[0m\u001b[0mi\u001b[0m\u001b[0;34m]\u001b[0m\u001b[0;34m,\u001b[0m\u001b[0;34m\u001b[0m\u001b[0;34m\u001b[0m\u001b[0m\n\u001b[0;32m---> 34\u001b[0;31m         \u001b[0mtotal_steps\u001b[0m\u001b[0;34m=\u001b[0m\u001b[0;36m10000\u001b[0m\u001b[0;34m\u001b[0m\u001b[0;34m\u001b[0m\u001b[0m\n\u001b[0m\u001b[1;32m     35\u001b[0m     ))\n",
      "\u001b[0;32m~/miniconda3/envs/VRDI/lib/python3.7/site-packages/gerrychain/chain.py\u001b[0m in \u001b[0;36m__init__\u001b[0;34m(self, proposal, constraints, accept, initial_state, total_steps)\u001b[0m\n\u001b[1;32m     45\u001b[0m                 \u001b[0;34m\"The failed constraints were: \"\u001b[0m \u001b[0;34m+\u001b[0m \u001b[0;34m\",\"\u001b[0m\u001b[0;34m.\u001b[0m\u001b[0mjoin\u001b[0m\u001b[0;34m(\u001b[0m\u001b[0;34m[\u001b[0m\u001b[0mf\u001b[0m\u001b[0;34m.\u001b[0m\u001b[0m__name__\u001b[0m \u001b[0;32mfor\u001b[0m \u001b[0mf\u001b[0m \u001b[0;32min\u001b[0m \u001b[0mfailed\u001b[0m\u001b[0;34m]\u001b[0m\u001b[0;34m)\u001b[0m\u001b[0;34m\u001b[0m\u001b[0;34m\u001b[0m\u001b[0m\n\u001b[1;32m     46\u001b[0m             )\n\u001b[0;32m---> 47\u001b[0;31m             \u001b[0;32mraise\u001b[0m \u001b[0mValueError\u001b[0m\u001b[0;34m(\u001b[0m\u001b[0mmessage\u001b[0m\u001b[0;34m)\u001b[0m\u001b[0;34m\u001b[0m\u001b[0;34m\u001b[0m\u001b[0m\n\u001b[0m\u001b[1;32m     48\u001b[0m \u001b[0;34m\u001b[0m\u001b[0m\n\u001b[1;32m     49\u001b[0m         \u001b[0mself\u001b[0m\u001b[0;34m.\u001b[0m\u001b[0mproposal\u001b[0m \u001b[0;34m=\u001b[0m \u001b[0mproposal\u001b[0m\u001b[0;34m\u001b[0m\u001b[0;34m\u001b[0m\u001b[0m\n",
      "\u001b[0;31mValueError\u001b[0m: The given initial_state is not valid according is_valid. The failed constraints were: Bounds(population,(883640.0571428571, 901491.3714285715))"
     ]
    }
   ],
   "source": [
    "updater = {\n",
    "    \"population\": updaters.Tally(\"TOTPOP\", alias=\"population\"),\n",
    "    \"cut_edges\": cut_edges,\n",
    "    \"BVAP\":Election(\"BVAP\",{\"BVAP\":\"BVAP\",\"nBVAP\":\"nBVAP\"}),\n",
    "    \"BCVAP\":Election(\"BCVAP\",{\"BCVAP\":\"BCVAP\",\"nBCVAP\":\"nBCVAP\"})\n",
    "}\n",
    "\n",
    "initial_partitions = []\n",
    "proposals = []\n",
    "compactness_bounds = []\n",
    "chains=[]\n",
    "\n",
    "for i in range(1):\n",
    "    initial_partitions.append(Partition(graph,starts[i], updater))\n",
    "    print(\"initial partition is made\")\n",
    "\n",
    "    proposals.append(partial(\n",
    "        recom, pop_col=\"TOTPOP\", pop_target=df['TOTPOP'].sum()/num_districts, epsilon=0.01, node_repeats=1 # e = .02\n",
    "    ))\n",
    "\n",
    "    compactness_bounds.append(constraints.UpperBound(\n",
    "        lambda p: len(p[\"cut_edges\"]), 2 * len(initial_partitions[i][\"cut_edges\"])\n",
    "    ))\n",
    "\n",
    "    chains.append(MarkovChain(\n",
    "        proposal=proposals[i],\n",
    "        constraints=[\n",
    "            constraints.within_percent_of_ideal_population(initial_partitions[i], .01), compactness_bounds[i] # e = .05\n",
    "          #constraints.single_flip_contiguous#no_more_discontiguous \n",
    "        #constraints.within_percent_of_ideal_population(initial_partitions[i], .3)\n",
    "        ],\n",
    "        accept=always_accept,\n",
    "        initial_state=initial_partitions[i],\n",
    "        total_steps=10000\n",
    "    ))\n"
   ]
  },
  {
   "cell_type": "code",
   "execution_count": 12,
   "metadata": {},
   "outputs": [
    {
     "name": "stdout",
     "output_type": "stream",
     "text": [
      "chain 0 step 100\n",
      "chain 0 step 200\n",
      "chain 0 step 300\n",
      "chain 0 step 400\n",
      "chain 0 step 500\n",
      "chain 0 step 600\n",
      "chain 0 step 700\n",
      "chain 0 step 800\n",
      "chain 0 step 900\n",
      "chain 0 step 1000\n",
      "chain 0 step 1100\n",
      "chain 0 step 1200\n",
      "chain 0 step 1300\n",
      "chain 0 step 1400\n",
      "chain 0 step 1500\n",
      "chain 0 step 1600\n",
      "chain 0 step 1700\n",
      "chain 0 step 1800\n",
      "chain 0 step 1900\n",
      "chain 0 step 2000\n",
      "chain 0 step 2100\n",
      "chain 0 step 2200\n",
      "chain 0 step 2300\n",
      "chain 0 step 2400\n",
      "chain 0 step 2500\n",
      "chain 0 step 2600\n",
      "chain 0 step 2700\n",
      "chain 0 step 2800\n",
      "chain 0 step 2900\n",
      "chain 0 step 3000\n",
      "chain 0 step 3100\n",
      "chain 0 step 3200\n",
      "chain 0 step 3300\n",
      "chain 0 step 3400\n",
      "chain 0 step 3500\n",
      "chain 0 step 3600\n",
      "chain 0 step 3700\n",
      "chain 0 step 3800\n",
      "chain 0 step 3900\n",
      "chain 0 step 4000\n",
      "chain 0 step 4100\n",
      "chain 0 step 4200\n",
      "chain 0 step 4300\n",
      "chain 0 step 4400\n",
      "chain 0 step 4500\n",
      "chain 0 step 4600\n",
      "chain 0 step 4700\n",
      "chain 0 step 4800\n",
      "chain 0 step 4900\n",
      "chain 0 step 5000\n",
      "chain 0 step 5100\n",
      "chain 0 step 5200\n",
      "chain 0 step 5300\n",
      "chain 0 step 5400\n",
      "chain 0 step 5500\n",
      "chain 0 step 5600\n",
      "chain 0 step 5700\n",
      "chain 0 step 5800\n",
      "chain 0 step 5900\n",
      "chain 0 step 6000\n",
      "chain 0 step 6100\n",
      "chain 0 step 6200\n",
      "chain 0 step 6300\n",
      "chain 0 step 6400\n",
      "chain 0 step 6500\n",
      "chain 0 step 6600\n",
      "chain 0 step 6700\n",
      "chain 0 step 6800\n",
      "chain 0 step 6900\n",
      "chain 0 step 7000\n",
      "chain 0 step 7100\n",
      "chain 0 step 7200\n",
      "chain 0 step 7300\n",
      "chain 0 step 7400\n",
      "chain 0 step 7500\n",
      "chain 0 step 7600\n",
      "chain 0 step 7700\n",
      "chain 0 step 7800\n",
      "chain 0 step 7900\n",
      "chain 0 step 8000\n",
      "chain 0 step 8100\n",
      "chain 0 step 8200\n",
      "chain 0 step 8300\n",
      "chain 0 step 8400\n",
      "chain 0 step 8500\n",
      "chain 0 step 8600\n",
      "chain 0 step 8700\n",
      "chain 0 step 8800\n",
      "chain 0 step 8900\n",
      "chain 0 step 9000\n",
      "chain 0 step 9100\n",
      "chain 0 step 9200\n",
      "chain 0 step 9300\n",
      "chain 0 step 9400\n",
      "chain 0 step 9500\n",
      "chain 0 step 9600\n",
      "chain 0 step 9700\n",
      "chain 0 step 9800\n",
      "chain 0 step 9900\n",
      "chain 0 step 10000\n",
      "finished chain 0\n"
     ]
    }
   ],
   "source": [
    "cuts=[[],[],[],[]]\n",
    "BVAPS=[[],[],[],[]]\n",
    "BCVAPS=[[],[],[],[]]\n",
    "\n",
    "#37 to 55 is opportunity district BVAP range in VA\n",
    "\n",
    "subdir = \"./Outputs/Tract_14Districts_VAP_CVAP/\"\n",
    "os.makedirs(os.path.dirname(subdir + \"init.txt\"), exist_ok=True)\n",
    "with open(subdir + \"init.txt\", \"w\") as f:\n",
    "    f.write(\"Created Folder\")\n",
    "\n",
    "    \n",
    "for i in range(1):\n",
    "    t = 0\n",
    "    for part in chains[i]:\n",
    "        cuts[i].append(len(part[\"cut_edges\"]))\n",
    "        BVAPS[i].append(sorted(part[\"BVAP\"].percents(\"BVAP\")))\n",
    "        BCVAPS[i].append(sorted(part[\"BCVAP\"].percents(\"BCVAP\")))\n",
    "        t+=1\n",
    "    \n",
    "        if t%100 ==0:\n",
    "            print(\"chain\",i,\"step\",t)\n",
    "            \n",
    "            df[\"current\"]=df.index.map(dict(part.assignment))\n",
    "        \n",
    "            df.plot(column=\"current\",cmap=\"jet\")\n",
    "            plt.savefig(subdir+\"plot\"+str(t)+\".png\")\n",
    "            plt.close()\n",
    "\n",
    "            with open(subdir+\"assignment\"+str(t)+\".json\", 'w') as jf1:\n",
    "                json.dump(dict(part.assignment), jf1)\n",
    "    \n",
    "    print(f\"finished chain {i}\")\n",
    "\n",
    "df[\"final\"]=df.index.map(dict(part.assignment))\n",
    "\n",
    "df.plot(column=\"final\",cmap=\"jet\")\n",
    "plt.savefig(subdir+\"final.png\")\n",
    "plt.close()\n"
   ]
  },
  {
   "cell_type": "code",
   "execution_count": 20,
   "metadata": {},
   "outputs": [],
   "source": [
    "# Note:\n",
    "#\n",
    "# The \"enacted plan\" is taken from the 2013 congressional district data for 14 districts\n",
    "# because GA first gained a seat iin 2013. Not using more current data to account for \n",
    "# population increase over time \n",
    "# \n",
    "\n",
    "cd_df = gpd.read_file(\"./data/ga_2013_CD.shp\")\n",
    "\n",
    "new_cols = ['CPOP', 'VAP', 'BVAP', 'nBVAP', 'CVAP', 'BCVAP', 'nBCVAP']\n",
    "\n",
    "VAP_cols = ['MVAPTOT', 'FVAPTOT']\n",
    "BVAP_cols = ['MVAPBLK', 'FVAPBLK']\n",
    "CVAP_cols = ['MNVVAPTOT', 'MNLVAPTOT', 'FNVVAPTOT', 'FNLVAPTOT']\n",
    "BCVAP_cols = ['MNVVAPBLK', 'MNLVAPBLK', 'FNVVAPBLK', 'FNLVAPBLK']\n",
    "\n",
    "cd_df['CPOP'] = pd.to_numeric(cd_df['TOTPOP']-cd_df['NCPOP'])\n",
    "cd_df['VAP'] = pd.to_numeric(cd_df[VAP_cols].sum(axis=1))\n",
    "cd_df['BVAP'] = pd.to_numeric(cd_df[BVAP_cols].sum(axis=1))\n",
    "cd_df['nBVAP'] = cd_df['VAP'] - cd_df['BVAP']\n",
    "cd_df['CVAP'] = pd.to_numeric(cd_df[CVAP_cols].sum(axis=1))\n",
    "cd_df['BCVAP'] = pd.to_numeric(cd_df[BCVAP_cols].sum(axis=1))\n",
    "cd_df['nBCVAP'] = cd_df['CVAP'] - cd_df['BCVAP']"
   ]
  },
  {
   "cell_type": "code",
   "execution_count": 24,
   "metadata": {},
   "outputs": [],
   "source": [
    "enacted_CD113_BCVAP = sorted(cd_df['BCVAP']/cd_df['CVAP'])\n",
    "enacted_CD113_BVAP = sorted(cd_df['BVAP']/cd_df['VAP'])"
   ]
  },
  {
   "cell_type": "code",
   "execution_count": 25,
   "metadata": {},
   "outputs": [
    {
     "data": {
      "image/png": "[encoded data removed]",
      "text/plain": [
       "<Figure size 432x288 with 1 Axes>"
      ]
     },
     "metadata": {
      "needs_background": "light"
     },
     "output_type": "display_data"
    },
    {
     "data": {
      "image/png": "[encoded data removed]",
      "text/plain": [
       "<Figure size 432x288 with 1 Axes>"
      ]
     },
     "metadata": {
      "needs_background": "light"
     },
     "output_type": "display_data"
    }
   ],
   "source": [
    "# PLOT SORTED DISTRICTS OVER BVAP %\n",
    "\n",
    "c='k'\n",
    "\n",
    "#37 to 55 is opportunity district BVAP range in VA\n",
    "\n",
    "plt.figure()\n",
    "plt.boxplot(\n",
    "            np.array(BVAPS[0]),\n",
    "            whis=[1, 99],\n",
    "            showfliers=False,\n",
    "            patch_artist=True,\n",
    "            boxprops=dict(facecolor=\"None\", color=c),\n",
    "            capprops=dict(color=c),\n",
    "            whiskerprops=dict(color=c),\n",
    "            flierprops=dict(color=c, markeredgecolor=c),\n",
    "            medianprops=dict(color=c),\n",
    ")\n",
    "sorted_d_nums = [1,2,3,4,5,6,7, 8, 9, 10, 11, 12, 13, 14]\n",
    "sorted_BPOP = sorted([.295, .51, .233, .571, .58, .125, .179, .298, .069, .247, .149, .343, .55, .086])\n",
    "plt.plot(sorted_d_nums, enacted_CD113_BVAP, 'o', color=\"hotpink\", label=\"Enacted (2013)\",markersize=10)\n",
    "\n",
    "plt.axhline(y=.4,color='r',label=\"40%\",linewidth=5)\n",
    "\n",
    "plt.axhline(y=.45,color='y',label=\"45%\",linewidth=5)\n",
    "\n",
    "plt.axhline(y=.5,color='g',label=\"50%\",linewidth=5)\n",
    "plt.plot([],[],color='k',label=\"ReCom Ensemble\")\n",
    "plt.xlabel(\"Sorted Districts\")\n",
    "plt.ylabel(\"BVAP%\")\n",
    "\n",
    "plt.legend()\n",
    "\n",
    "plt.show()\n",
    "\n",
    "\n",
    "# PLOT SORTED DISTRICTS OVER CBVAP %\n",
    "\n",
    "plt.figure()\n",
    "plt.boxplot(\n",
    "            np.array(BCVAPS[0]),\n",
    "            whis=[1, 99],\n",
    "            showfliers=False,\n",
    "            patch_artist=True,\n",
    "            boxprops=dict(facecolor=\"None\", color=c),\n",
    "            capprops=dict(color=c),\n",
    "            whiskerprops=dict(color=c),\n",
    "            flierprops=dict(color=c, markeredgecolor=c),\n",
    "            medianprops=dict(color=c),\n",
    ")\n",
    "\n",
    "plt.plot(sorted_d_nums, enacted_CD113_BCVAP, 'o', color=\"hotpink\", label=\"Enacted (2013)\",markersize=10)\n",
    "\n",
    "plt.axhline(y=.4,color='r',label=\"40%\",linewidth=5)\n",
    "\n",
    "plt.axhline(y=.45,color='y',label=\"45%\",linewidth=5)\n",
    "\n",
    "plt.axhline(y=.5,color='g',label=\"50%\",linewidth=5)\n",
    "plt.plot([],[],color='k',label=\"ReCom Ensemble\")\n",
    "plt.xlabel(\"Sorted Districts\")\n",
    "plt.ylabel(\"BCVAP%\")\n",
    "\n",
    "plt.legend()\n",
    "\n",
    "plt.show()"
   ]
  },
  {
   "cell_type": "code",
   "execution_count": 10,
   "metadata": {},
   "outputs": [],
   "source": [
    "def draw_plot(data, offset, edge_color, fill_color):\n",
    "    pos = 5*np.arange(data.shape[1])+1+offset\n",
    "    #bp = ax.boxplot(data, positions= pos, widths=0.3, patch_artist=True, manage_xticks=False)\n",
    "    bp = ax.boxplot(data, positions= pos,widths=.5, whis=[1,99],showfliers=False, patch_artist=True, manage_xticks=False,zorder=4)\n",
    "    for element in ['boxes', 'whiskers', 'medians', 'caps']:\n",
    "        plt.setp(bp[element], color=edge_color,zorder=4)\n",
    "    for patch in bp['boxes']:\n",
    "        patch.set(facecolor=fill_color,zorder=0)\n",
    "\n"
   ]
  },
  {
   "cell_type": "code",
   "execution_count": 11,
   "metadata": {},
   "outputs": [
    {
     "ename": "NameError",
     "evalue": "name 'BVAPS' is not defined",
     "output_type": "error",
     "traceback": [
      "\u001b[0;31m---------------------------------------------------------------------------\u001b[0m",
      "\u001b[0;31mNameError\u001b[0m                                 Traceback (most recent call last)",
      "\u001b[0;32m<ipython-input-11-eb04f6d4f566>\u001b[0m in \u001b[0;36m<module>\u001b[0;34m\u001b[0m\n\u001b[1;32m      6\u001b[0m \u001b[0;34m\u001b[0m\u001b[0m\n\u001b[1;32m      7\u001b[0m \u001b[0mfig\u001b[0m\u001b[0;34m,\u001b[0m \u001b[0max\u001b[0m \u001b[0;34m=\u001b[0m \u001b[0mplt\u001b[0m\u001b[0;34m.\u001b[0m\u001b[0msubplots\u001b[0m\u001b[0;34m(\u001b[0m\u001b[0;34m)\u001b[0m\u001b[0;34m\u001b[0m\u001b[0;34m\u001b[0m\u001b[0m\n\u001b[0;32m----> 8\u001b[0;31m \u001b[0mdraw_plot\u001b[0m\u001b[0;34m(\u001b[0m\u001b[0mnp\u001b[0m\u001b[0;34m.\u001b[0m\u001b[0marray\u001b[0m\u001b[0;34m(\u001b[0m\u001b[0mBVAPS\u001b[0m\u001b[0;34m[\u001b[0m\u001b[0;36m0\u001b[0m\u001b[0;34m]\u001b[0m\u001b[0;34m)\u001b[0m\u001b[0;34m,\u001b[0m\u001b[0;34m-\u001b[0m\u001b[0;36m1.5\u001b[0m\u001b[0;34m,\u001b[0m\u001b[0mcolors\u001b[0m\u001b[0;34m[\u001b[0m\u001b[0;36m0\u001b[0m\u001b[0;34m]\u001b[0m\u001b[0;34m,\u001b[0m\u001b[0;34m'w'\u001b[0m\u001b[0;34m)\u001b[0m\u001b[0;34m\u001b[0m\u001b[0;34m\u001b[0m\u001b[0m\n\u001b[0m\u001b[1;32m      9\u001b[0m \u001b[0mdraw_plot\u001b[0m\u001b[0;34m(\u001b[0m\u001b[0mnp\u001b[0m\u001b[0;34m.\u001b[0m\u001b[0marray\u001b[0m\u001b[0;34m(\u001b[0m\u001b[0mBCVAPS\u001b[0m\u001b[0;34m[\u001b[0m\u001b[0;36m0\u001b[0m\u001b[0;34m]\u001b[0m\u001b[0;34m)\u001b[0m\u001b[0;34m,\u001b[0m\u001b[0;34m-\u001b[0m\u001b[0;36m.5\u001b[0m\u001b[0;34m,\u001b[0m\u001b[0mcolors\u001b[0m\u001b[0;34m[\u001b[0m\u001b[0;36m1\u001b[0m\u001b[0;34m]\u001b[0m\u001b[0;34m,\u001b[0m\u001b[0;34m'w'\u001b[0m\u001b[0;34m)\u001b[0m\u001b[0;34m\u001b[0m\u001b[0;34m\u001b[0m\u001b[0m\n\u001b[1;32m     10\u001b[0m \u001b[0;31m#draw_plot(np.array(BVAPS[2]),.5,colors[2],'w')\u001b[0m\u001b[0;34m\u001b[0m\u001b[0;34m\u001b[0m\u001b[0;34m\u001b[0m\u001b[0m\n",
      "\u001b[0;31mNameError\u001b[0m: name 'BVAPS' is not defined"
     ]
    },
    {
     "data": {
      "text/plain": [
       "<Figure size 432x288 with 0 Axes>"
      ]
     },
     "metadata": {},
     "output_type": "display_data"
    },
    {
     "data": {
      "image/png": "[encoded data removed]",
      "text/plain": [
       "<Figure size 432x288 with 1 Axes>"
      ]
     },
     "metadata": {
      "needs_background": "light"
     },
     "output_type": "display_data"
    }
   ],
   "source": [
    "colors = ['hotpink','goldenrod','green','purple']\n",
    "labels= ['Block Group','COUSUB','Tract','County']\n",
    "\n",
    "plt.figure()\n",
    "\n",
    "\n",
    "fig, ax = plt.subplots()\n",
    "draw_plot(np.array(BVAPS[0]),-1.5,colors[0],'w')\n",
    "\n",
    "#draw_plot(np.array(BVAPS[1]),-.5,colors[1],'w')\n",
    "#draw_plot(np.array(BVAPS[2]),.5,colors[2],'w')\n",
    "#draw_plot(np.array(BVAPS[3]),1.5,colors[3],'w')\n",
    "plt.ylabel(\"BVAP%\")\n",
    "for i in range(1):\n",
    "    plt.plot([],[],color=colors[i],label=labels[i])\n",
    "plt.legend()\n",
    "plt.show()"
   ]
  },
  {
   "cell_type": "code",
   "execution_count": null,
   "metadata": {},
   "outputs": [],
   "source": []
  }
 ],
 "metadata": {
  "kernelspec": {
   "display_name": "Python 3",
   "language": "python",
   "name": "python3"
  },
  "language_info": {
   "codemirror_mode": {
    "name": "ipython",
    "version": 3
   },
   "file_extension": ".py",
   "mimetype": "text/x-python",
   "name": "python",
   "nbconvert_exporter": "python",
   "pygments_lexer": "ipython3",
   "version": "3.7.3"
  }
 },
 "nbformat": 4,
 "nbformat_minor": 2
}
