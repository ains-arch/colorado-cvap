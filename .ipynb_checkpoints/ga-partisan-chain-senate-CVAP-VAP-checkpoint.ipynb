{
 "cells": [
  {
   "cell_type": "code",
   "execution_count": 13,
   "metadata": {},
   "outputs": [],
   "source": [
    "# -*- coding: utf-8 -*-\n",
    "\"\"\"\n",
    "Created on Fri Jul 12 11:18:24 2019\n",
    "\n",
    "@author: Katherine\n",
    "\"\"\"\n",
    "\n",
    "# -*- coding: utf-8 -*-\n",
    "\"\"\"\n",
    "Created on Thu Jul 11 15:06:44 2019\n",
    "\n",
    "@author: Katherine\n",
    "\"\"\"\n",
    "\n",
    "# Imports\n",
    "\n",
    "import os\n",
    "\n",
    "from gerrychain import Graph, GeographicPartition, Partition, Election, accept\n",
    "from gerrychain.updaters import Tally, cut_edges\n",
    "import geopandas as gpd\n",
    "import numpy as np\n",
    "from gerrychain.random import random\n",
    "import copy\n",
    "\n",
    "from gerrychain import MarkovChain\n",
    "from gerrychain.constraints import single_flip_contiguous\n",
    "from gerrychain.proposals import propose_random_flip, recom\n",
    "from gerrychain.accept import always_accept\n",
    "from gerrychain.metrics import polsby_popper\n",
    "from gerrychain import constraints\n",
    "from gerrychain.constraints import no_vanishing_districts\n",
    "\n",
    "from collections import defaultdict, Counter\n",
    "from itertools import combinations_with_replacement\n",
    "\n",
    "\n",
    "import matplotlib.pyplot as plt\n",
    "\n",
    "import networkx as nx\n",
    "\n",
    "import pandas\n",
    "\n",
    "import math\n",
    "\n",
    "#from IPython.display import clear_output\n",
    "\n",
    "from functools import partial\n",
    "\n",
    "from gerrychain.tree import recursive_tree_part\n",
    "\n",
    "shapefile = \"./maupped_ga_2016_precincts/maupped_ga_2016_precincts.shp\"\n",
    "df = gpd.read_file(shapefile)\n",
    "county_col = \"COUNTYFP10\"\n",
    "pop_col = \"CPOP\"\n",
    "uid = \"ID\"\n",
    "\n",
    "variables = [\"ID\",\"FIPS2\", \"PRES16D\", \"PRES16R\", \"PRES16L\", \"SEN16D\", \"SEN16R\", \"SEN16L\",]\n",
    "for x in df.columns:\n",
    "    if x in variables:\n",
    "        df[x] = df[x].astype(int)\n",
    "\n",
    "num_districts = 56\n",
    "\n"
   ]
  },
  {
   "cell_type": "markdown",
   "metadata": {},
   "source": [
    "## CPOP CHAIN"
   ]
  },
  {
   "cell_type": "code",
   "execution_count": 14,
   "metadata": {},
   "outputs": [],
   "source": [
    "df[\"CPOP\"] = df[\"TOTPOP\"] - df[\"NCPOP\"]\n"
   ]
  },
  {
   "cell_type": "code",
   "execution_count": 15,
   "metadata": {},
   "outputs": [],
   "source": [
    "graph = Graph.from_geodataframe(df,ignore_errors=True)\n",
    "graph.add_data(df,list(df))\n",
    "graph = nx.relabel_nodes(graph, df[uid])\n",
    "\n",
    "elections = [\n",
    "        Election(\"PRES16\",{\"Democratic\": \"PRES16D\",\"Republican\":\"PRES16R\" }),\n",
    "        Election(\"SEN16\",{\"Democratic\": \"SEN16D\",\"Republican\":\"SEN16R\" })]\n",
    "\n",
    "#my_updaters = {\"population\" : updaters.Tally(\"TOTPOP\", alias=\"population\")}\n",
    "my_updaters = {\"population\" : Tally(pop_col, alias=\"population\"),\n",
    "            \"cut_edges\": cut_edges}\n",
    "election_updaters = {election.name: election for election in elections}\n",
    "my_updaters.update(election_updaters)\n",
    "\n",
    "tot_pop_col = 0\n",
    "\n",
    "for n in graph.nodes():\n",
    "    graph.node[n][pop_col] = int(graph.node[n][pop_col])\n",
    "    tot_pop_col += graph.node[n][pop_col]\n"
   ]
  },
  {
   "cell_type": "code",
   "execution_count": null,
   "metadata": {},
   "outputs": [],
   "source": [
    "cddict = recursive_tree_part(graph,range(num_districts),tot_pop_col/num_districts,pop_col,0.01,1)\n",
    "\n",
    "starting_partition = Partition(graph,assignment=cddict,updaters=my_updaters)\n"
   ]
  },
  {
   "cell_type": "code",
   "execution_count": 23,
   "metadata": {},
   "outputs": [],
   "source": [
    "proposal = partial(\n",
    "        recom, pop_col=pop_col, pop_target=tot_pop_col/num_districts, epsilon=0.08, node_repeats=1\n",
    "    )\n",
    "\n",
    "compactness_bound = constraints.UpperBound(\n",
    "        lambda p: len(p[\"cut_edges\"]), 2 * len(starting_partition[\"cut_edges\"])\n",
    "    )\n",
    "\n",
    "chain = MarkovChain(\n",
    "        proposal,\n",
    "        constraints=[\n",
    "            constraints.within_percent_of_ideal_population(starting_partition, 0.08),compactness_bound\n",
    "          #constraints.single_flip_contiguous#no_more_discontiguous\n",
    "        ],\n",
    "        accept=accept.always_accept,\n",
    "        initial_state=starting_partition,\n",
    "        total_steps=10000\n",
    "    )\n",
    "\n"
   ]
  },
  {
   "cell_type": "code",
   "execution_count": 24,
   "metadata": {},
   "outputs": [
    {
     "name": "stdout",
     "output_type": "stream",
     "text": [
      "finished chain 100\n",
      "finished chain 200\n",
      "finished chain 300\n",
      "finished chain 400\n",
      "finished chain 500\n",
      "finished chain 600\n",
      "finished chain 700\n",
      "finished chain 800\n",
      "finished chain 900\n",
      "finished chain 1000\n",
      "finished chain 1100\n",
      "finished chain 1200\n",
      "finished chain 1300\n",
      "finished chain 1400\n",
      "finished chain 1500\n",
      "finished chain 1600\n",
      "finished chain 1700\n",
      "finished chain 1800\n",
      "finished chain 1900\n",
      "finished chain 2000\n",
      "finished chain 2100\n",
      "finished chain 2200\n",
      "finished chain 2300\n",
      "finished chain 2400\n",
      "finished chain 2500\n",
      "finished chain 2600\n",
      "finished chain 2700\n",
      "finished chain 2800\n",
      "finished chain 2900\n",
      "finished chain 3000\n",
      "finished chain 3100\n",
      "finished chain 3200\n",
      "finished chain 3300\n",
      "finished chain 3400\n",
      "finished chain 3500\n",
      "finished chain 3600\n",
      "finished chain 3700\n",
      "finished chain 3800\n",
      "finished chain 3900\n",
      "finished chain 4000\n",
      "finished chain 4100\n",
      "finished chain 4200\n",
      "finished chain 4300\n",
      "finished chain 4400\n",
      "finished chain 4500\n",
      "finished chain 4600\n",
      "finished chain 4700\n",
      "finished chain 4800\n",
      "finished chain 4900\n",
      "finished chain 5000\n",
      "finished chain 5100\n",
      "finished chain 5200\n",
      "finished chain 5300\n",
      "finished chain 5400\n",
      "finished chain 5500\n",
      "finished chain 5600\n",
      "finished chain 5700\n",
      "finished chain 5800\n",
      "finished chain 5900\n",
      "finished chain 6000\n",
      "finished chain 6100\n",
      "finished chain 6200\n",
      "finished chain 6300\n",
      "finished chain 6400\n",
      "finished chain 6500\n",
      "finished chain 6600\n",
      "finished chain 6700\n",
      "finished chain 6800\n",
      "finished chain 6900\n",
      "finished chain 7000\n",
      "finished chain 7100\n",
      "finished chain 7200\n",
      "finished chain 7300\n",
      "finished chain 7400\n",
      "finished chain 7500\n",
      "finished chain 7600\n",
      "finished chain 7700\n",
      "finished chain 7800\n",
      "finished chain 7900\n",
      "finished chain 8000\n",
      "finished chain 8100\n",
      "finished chain 8200\n",
      "finished chain 8300\n",
      "finished chain 8400\n",
      "finished chain 8500\n",
      "finished chain 8600\n",
      "finished chain 8700\n",
      "finished chain 8800\n",
      "finished chain 8900\n",
      "finished chain 9000\n",
      "finished chain 9100\n",
      "finished chain 9200\n",
      "finished chain 9300\n",
      "finished chain 9400\n",
      "finished chain 9500\n",
      "finished chain 9600\n",
      "finished chain 9700\n",
      "finished chain 9800\n",
      "finished chain 9900\n",
      "finished chain 10000\n"
     ]
    }
   ],
   "source": [
    "t = 0\n",
    "SENwins_list = []\n",
    "PRESwins_list = []\n",
    "cutedges_list = []\n",
    "for part in chain:\n",
    "    SENwins_list.append(part[\"SEN16\"].wins(\"Republican\"))\n",
    "    PRESwins_list.append(part[\"PRES16\"].wins(\"Republican\"))\n",
    "    cutedges_list.append(len(part[\"cut_edges\"]))\n",
    "    t += 1\n",
    "    if t % 100 == 0:\n",
    "        print(\"finished chain \" + str(t))\n",
    "        \n"
   ]
  },
  {
   "cell_type": "code",
   "execution_count": 25,
   "metadata": {},
   "outputs": [
    {
     "data": {
      "image/png": "[encoded data removed]",
      "text/plain": [
       "<Figure size 432x288 with 1 Axes>"
      ]
     },
     "metadata": {
      "needs_background": "light"
     },
     "output_type": "display_data"
    },
    {
     "data": {
      "image/png": "[encoded data removed]",
      "text/plain": [
       "<Figure size 432x288 with 1 Axes>"
      ]
     },
     "metadata": {
      "needs_background": "light"
     },
     "output_type": "display_data"
    },
    {
     "data": {
      "image/png": "[encoded data removed]",
      "text/plain": [
       "<Figure size 432x288 with 1 Axes>"
      ]
     },
     "metadata": {
      "needs_background": "light"
     },
     "output_type": "display_data"
    }
   ],
   "source": [
    "\n",
    "\n",
    "\n",
    "#CHANGE\n",
    "plt.figure()\n",
    "plt.hist(SENwins_list)\n",
    "plt.title(\"Histogram of Republican Seats (based on Senate 2016)\")\n",
    "plt.xlabel(\"Seats\")\n",
    "#plt.savefig(\"PA_hist_symmetric_entropy_5000.png\")\n",
    "plt.show()\n",
    "\n",
    "plt.figure()\n",
    "plt.hist(PRESwins_list)\n",
    "plt.title(\"Histogram of Republican Seats (based on Pres 2016)\")\n",
    "plt.xlabel(\"Seats\")\n",
    "#plt.savefig(\"PA_hist_symmetric_entropy_5000.png\")\n",
    "plt.show()\n",
    "\n",
    "plt.figure()\n",
    "plt.hist(cutedges_list)\n",
    "plt.title(\"Histogram of Cut Edges\")\n",
    "plt.xlabel(\"Cut Edges\")\n",
    "#plt.savefig(\"PA_hist_symmetric_entropy_5000.png\")\n",
    "plt.show()\n"
   ]
  },
  {
   "cell_type": "markdown",
   "metadata": {},
   "source": [
    "## TOTPOP Chain"
   ]
  },
  {
   "cell_type": "code",
   "execution_count": 27,
   "metadata": {},
   "outputs": [],
   "source": [
    "import pandas as pd\n",
    "\n",
    "CVAP_cols = ['MNVVAPTOT', 'MNLVAPTOT', 'FNVVAPTOT', 'FNLVAPTOT']\n",
    "VAP_cols = ['MVAPTOT', 'FVAPTOT']\n",
    "\n",
    "df[\"CVAP\"] = pd.to_numeric(df[CVAP_cols].sum(axis=1))\n",
    "df['VAP'] = pd.to_numeric(df[VAP_cols].sum(axis=1))\n",
    "\n",
    "graph.add_data(df,list(df))\n",
    "graph = nx.relabel_nodes(graph, df[uid])\n"
   ]
  },
  {
   "cell_type": "code",
   "execution_count": 28,
   "metadata": {},
   "outputs": [],
   "source": [
    "pop_col = \"TOTPOP\"\n",
    "\n",
    "elections = [\n",
    "        Election(\"PRES16\",{\"Democratic\": \"PRES16D\",\"Republican\":\"PRES16R\" }),\n",
    "        Election(\"SEN16\",{\"Democratic\": \"SEN16D\",\"Republican\":\"SEN16R\" })]\n",
    "\n",
    "#my_updaters = {\"population\" : updaters.Tally(\"TOTPOP\", alias=\"population\")}\n",
    "my_updaters = {\"population\" : Tally(pop_col, alias=\"population\"),\n",
    "            \"cut_edges\": cut_edges}\n",
    "election_updaters = {election.name: election for election in elections}\n",
    "my_updaters.update(election_updaters)\n",
    "\n",
    "cpop_col = 0\n",
    "\n",
    "for n in graph.nodes():\n",
    "    graph.node[n][pop_col] = int(graph.node[n][pop_col])\n",
    "    tot_pop_col += graph.node[n][pop_col]\n",
    "\n"
   ]
  },
  {
   "cell_type": "code",
   "execution_count": null,
   "metadata": {},
   "outputs": [],
   "source": [
    "cddict = recursive_tree_part(graph,range(num_districts),tot_pop_col/num_districts,pop_col,0.05,1)\n",
    "\n",
    "starting_partition = Partition(graph,assignment=cddict,updaters=my_updaters)\n"
   ]
  },
  {
   "cell_type": "code",
   "execution_count": null,
   "metadata": {},
   "outputs": [],
   "source": [
    "proposal = partial(\n",
    "        recom, pop_col=pop_col, pop_target=tot_pop_col/num_districts, epsilon=0.05, node_repeats=1\n",
    "    )\n",
    "\n",
    "compactness_bound = constraints.UpperBound(\n",
    "        lambda p: len(p[\"cut_edges\"]), 2 * len(starting_partition[\"cut_edges\"])\n",
    "    )\n",
    "\n",
    "chain = MarkovChain(\n",
    "        proposal,\n",
    "        constraints=[\n",
    "            constraints.within_percent_of_ideal_population(starting_partition, 0.05),compactness_bound\n",
    "          #constraints.single_flip_contiguous#no_more_discontiguous\n",
    "        ],\n",
    "        accept=accept.always_accept,\n",
    "        initial_state=starting_partition,\n",
    "        total_steps=10000\n",
    "    )\n"
   ]
  },
  {
   "cell_type": "code",
   "execution_count": null,
   "metadata": {},
   "outputs": [],
   "source": [
    "t = 0\n",
    "SENwins_list = []\n",
    "PRESwins_list = []\n",
    "cutedges_list = []\n",
    "for part in chain:\n",
    "    SENwins_list.append(part[\"SEN16\"].wins(\"Republican\"))\n",
    "    PRESwins_list.append(part[\"PRES16\"].wins(\"Republican\"))\n",
    "    cutedges_list.append(len(part[\"cut_edges\"]))\n",
    "    t += 1\n",
    "    if t % 100 == 0:\n",
    "        print(\"finished chain \" + str(t))\n",
    "        \n"
   ]
  },
  {
   "cell_type": "code",
   "execution_count": null,
   "metadata": {},
   "outputs": [],
   "source": [
    "\n",
    "\n",
    "#CHANGE\n",
    "plt.figure()\n",
    "plt.hist(SENwins_list)\n",
    "plt.title(\"Histogram of Republican Seats (based on Senate 2016)\")\n",
    "plt.xlabel(\"Seats\")\n",
    "#plt.savefig(\"PA_hist_symmetric_entropy_5000.png\")\n",
    "plt.show()\n",
    "\n",
    "plt.figure()\n",
    "plt.hist(PRESwins_list)\n",
    "plt.title(\"Histogram of Republican Seats (based on Pres 2016)\")\n",
    "plt.xlabel(\"Seats\")\n",
    "#plt.savefig(\"PA_hist_symmetric_entropy_5000.png\")\n",
    "plt.show()\n",
    "\n",
    "plt.figure()\n",
    "plt.hist(cutedges_list)\n",
    "plt.title(\"Histogram of Cut Edges\")\n",
    "plt.xlabel(\"Cut Edges\")\n",
    "#plt.savefig(\"PA_hist_symmetric_entropy_5000.png\")\n",
    "plt.show()"
   ]
  },
  {
   "cell_type": "markdown",
   "metadata": {},
   "source": [
    "## CVAP CHAIN"
   ]
  },
  {
   "cell_type": "code",
   "execution_count": 28,
   "metadata": {},
   "outputs": [],
   "source": [
    "pop_col = \"TOTPOP\"\n",
    "\n",
    "elections = [\n",
    "        Election(\"PRES16\",{\"Democratic\": \"PRES16D\",\"Republican\":\"PRES16R\" }),\n",
    "        Election(\"SEN16\",{\"Democratic\": \"SEN16D\",\"Republican\":\"SEN16R\" })]\n",
    "\n",
    "#my_updaters = {\"population\" : updaters.Tally(\"TOTPOP\", alias=\"population\")}\n",
    "my_updaters = {\"population\" : Tally(pop_col, alias=\"population\"),\n",
    "            \"cut_edges\": cut_edges}\n",
    "election_updaters = {election.name: election for election in elections}\n",
    "my_updaters.update(election_updaters)\n",
    "\n",
    "cpop_col = 0\n",
    "\n",
    "for n in graph.nodes():\n",
    "    graph.node[n][pop_col] = int(graph.node[n][pop_col])\n",
    "    tot_pop_col += graph.node[n][pop_col]\n",
    "\n"
   ]
  },
  {
   "cell_type": "code",
   "execution_count": null,
   "metadata": {},
   "outputs": [],
   "source": [
    "cddict = recursive_tree_part(graph,range(num_districts),tot_pop_col/num_districts,pop_col,0.01,1)\n",
    "\n",
    "starting_partition = Partition(graph,assignment=cddict,updaters=my_updaters)\n"
   ]
  },
  {
   "cell_type": "code",
   "execution_count": null,
   "metadata": {},
   "outputs": [],
   "source": [
    "proposal = partial(\n",
    "        recom, pop_col=pop_col, pop_target=tot_pop_col/num_districts, epsilon=0.05, node_repeats=1\n",
    "    )\n",
    "\n",
    "compactness_bound = constraints.UpperBound(\n",
    "        lambda p: len(p[\"cut_edges\"]), 2 * len(starting_partition[\"cut_edges\"])\n",
    "    )\n",
    "\n",
    "chain = MarkovChain(\n",
    "        proposal,\n",
    "        constraints=[\n",
    "            constraints.within_percent_of_ideal_population(starting_partition, 0.05),compactness_bound\n",
    "          #constraints.single_flip_contiguous#no_more_discontiguous\n",
    "        ],\n",
    "        accept=accept.always_accept,\n",
    "        initial_state=starting_partition,\n",
    "        total_steps=10000\n",
    "    )\n"
   ]
  },
  {
   "cell_type": "code",
   "execution_count": null,
   "metadata": {},
   "outputs": [],
   "source": [
    "t = 0\n",
    "SENwins_list = []\n",
    "PRESwins_list = []\n",
    "cutedges_list = []\n",
    "for part in chain:\n",
    "    SENwins_list.append(part[\"SEN16\"].wins(\"Republican\"))\n",
    "    PRESwins_list.append(part[\"PRES16\"].wins(\"Republican\"))\n",
    "    cutedges_list.append(len(part[\"cut_edges\"]))\n",
    "    t += 1\n",
    "    if t % 100 == 0:\n",
    "        print(\"finished chain \" + str(t))\n",
    "        \n"
   ]
  },
  {
   "cell_type": "code",
   "execution_count": null,
   "metadata": {},
   "outputs": [],
   "source": [
    "\n",
    "\n",
    "#CHANGE\n",
    "plt.figure()\n",
    "plt.hist(SENwins_list)\n",
    "plt.title(\"Histogram of Republican Seats (based on Senate 2016)\")\n",
    "plt.xlabel(\"Seats\")\n",
    "#plt.savefig(\"PA_hist_symmetric_entropy_5000.png\")\n",
    "plt.show()\n",
    "\n",
    "plt.figure()\n",
    "plt.hist(PRESwins_list)\n",
    "plt.title(\"Histogram of Republican Seats (based on Pres 2016)\")\n",
    "plt.xlabel(\"Seats\")\n",
    "#plt.savefig(\"PA_hist_symmetric_entropy_5000.png\")\n",
    "plt.show()\n",
    "\n",
    "plt.figure()\n",
    "plt.hist(cutedges_list)\n",
    "plt.title(\"Histogram of Cut Edges\")\n",
    "plt.xlabel(\"Cut Edges\")\n",
    "#plt.savefig(\"PA_hist_symmetric_entropy_5000.png\")\n",
    "plt.show()"
   ]
  }
 ],
 "metadata": {
  "kernelspec": {
   "display_name": "Python 3",
   "language": "python",
   "name": "python3"
  },
  "language_info": {
   "codemirror_mode": {
    "name": "ipython",
    "version": 3
   },
   "file_extension": ".py",
   "mimetype": "text/x-python",
   "name": "python",
   "nbconvert_exporter": "python",
   "pygments_lexer": "ipython3",
   "version": "3.7.3"
  }
 },
 "nbformat": 4,
 "nbformat_minor": 2
}
